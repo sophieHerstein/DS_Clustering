{
  "cells": [
    {
      "cell_type": "markdown",
      "metadata": {
        "id": "r5jQ6jnONg0P"
      },
      "source": [
        "# Clustering Exercise"
      ]
    },
    {
      "cell_type": "markdown",
      "metadata": {},
      "source": [
        "#### Objective"
      ]
    },
    {
      "cell_type": "markdown",
      "metadata": {},
      "source": [
        "To categorize the countries using socio-economic and health factors that determine the overall development of the country."
      ]
    },
    {
      "cell_type": "markdown",
      "metadata": {},
      "source": [
        "#### Problem Statement"
      ]
    },
    {
      "cell_type": "markdown",
      "metadata": {},
      "source": [
        "HELP International has been able to raise around $ 10 million. Now the CEO of the NGO needs to decide how to use this money strategically and effectively.  Hence, your Job as a Data scientist is to categorize the countries using some socio-economic and health factors that determine the overall development of the country."
      ]
    },
    {
      "cell_type": "code",
      "execution_count": 1,
      "metadata": {
        "id": "iRKU0aQVQ80k"
      },
      "outputs": [],
      "source": [
        "import pandas as pd"
      ]
    },
    {
      "cell_type": "code",
      "execution_count": 2,
      "metadata": {},
      "outputs": [
        {
          "data": {
            "text/html": [
              "<div>\n",
              "<style scoped>\n",
              "    .dataframe tbody tr th:only-of-type {\n",
              "        vertical-align: middle;\n",
              "    }\n",
              "\n",
              "    .dataframe tbody tr th {\n",
              "        vertical-align: top;\n",
              "    }\n",
              "\n",
              "    .dataframe thead th {\n",
              "        text-align: right;\n",
              "    }\n",
              "</style>\n",
              "<table border=\"1\" class=\"dataframe\">\n",
              "  <thead>\n",
              "    <tr style=\"text-align: right;\">\n",
              "      <th></th>\n",
              "      <th>country</th>\n",
              "      <th>child_mort</th>\n",
              "      <th>exports</th>\n",
              "      <th>health</th>\n",
              "      <th>imports</th>\n",
              "      <th>income</th>\n",
              "      <th>inflation</th>\n",
              "      <th>life_expec</th>\n",
              "      <th>total_fer</th>\n",
              "      <th>gdpp</th>\n",
              "    </tr>\n",
              "  </thead>\n",
              "  <tbody>\n",
              "    <tr>\n",
              "      <th>0</th>\n",
              "      <td>Mongolia</td>\n",
              "      <td>26.1</td>\n",
              "      <td>46.7</td>\n",
              "      <td>5.44</td>\n",
              "      <td>56.7</td>\n",
              "      <td>7710</td>\n",
              "      <td>39.200</td>\n",
              "      <td>66.2</td>\n",
              "      <td>2.64</td>\n",
              "      <td>2650</td>\n",
              "    </tr>\n",
              "    <tr>\n",
              "      <th>1</th>\n",
              "      <td>Sudan</td>\n",
              "      <td>76.7</td>\n",
              "      <td>19.7</td>\n",
              "      <td>6.32</td>\n",
              "      <td>17.2</td>\n",
              "      <td>3370</td>\n",
              "      <td>19.600</td>\n",
              "      <td>66.3</td>\n",
              "      <td>4.88</td>\n",
              "      <td>1480</td>\n",
              "    </tr>\n",
              "    <tr>\n",
              "      <th>2</th>\n",
              "      <td>Malawi</td>\n",
              "      <td>90.5</td>\n",
              "      <td>22.8</td>\n",
              "      <td>6.59</td>\n",
              "      <td>34.9</td>\n",
              "      <td>1030</td>\n",
              "      <td>12.100</td>\n",
              "      <td>53.1</td>\n",
              "      <td>5.31</td>\n",
              "      <td>459</td>\n",
              "    </tr>\n",
              "    <tr>\n",
              "      <th>3</th>\n",
              "      <td>Belgium</td>\n",
              "      <td>4.5</td>\n",
              "      <td>76.4</td>\n",
              "      <td>10.70</td>\n",
              "      <td>74.7</td>\n",
              "      <td>41100</td>\n",
              "      <td>1.880</td>\n",
              "      <td>80.0</td>\n",
              "      <td>1.86</td>\n",
              "      <td>44400</td>\n",
              "    </tr>\n",
              "    <tr>\n",
              "      <th>4</th>\n",
              "      <td>Congo, Dem. Rep.</td>\n",
              "      <td>116.0</td>\n",
              "      <td>41.1</td>\n",
              "      <td>7.91</td>\n",
              "      <td>49.6</td>\n",
              "      <td>609</td>\n",
              "      <td>20.800</td>\n",
              "      <td>57.5</td>\n",
              "      <td>6.54</td>\n",
              "      <td>334</td>\n",
              "    </tr>\n",
              "    <tr>\n",
              "      <th>...</th>\n",
              "      <td>...</td>\n",
              "      <td>...</td>\n",
              "      <td>...</td>\n",
              "      <td>...</td>\n",
              "      <td>...</td>\n",
              "      <td>...</td>\n",
              "      <td>...</td>\n",
              "      <td>...</td>\n",
              "      <td>...</td>\n",
              "      <td>...</td>\n",
              "    </tr>\n",
              "    <tr>\n",
              "      <th>146</th>\n",
              "      <td>Finland</td>\n",
              "      <td>3.0</td>\n",
              "      <td>38.7</td>\n",
              "      <td>8.95</td>\n",
              "      <td>37.4</td>\n",
              "      <td>39800</td>\n",
              "      <td>0.351</td>\n",
              "      <td>80.0</td>\n",
              "      <td>1.87</td>\n",
              "      <td>46200</td>\n",
              "    </tr>\n",
              "    <tr>\n",
              "      <th>147</th>\n",
              "      <td>Costa Rica</td>\n",
              "      <td>10.2</td>\n",
              "      <td>33.2</td>\n",
              "      <td>10.90</td>\n",
              "      <td>35.0</td>\n",
              "      <td>13000</td>\n",
              "      <td>6.570</td>\n",
              "      <td>80.4</td>\n",
              "      <td>1.92</td>\n",
              "      <td>8200</td>\n",
              "    </tr>\n",
              "    <tr>\n",
              "      <th>148</th>\n",
              "      <td>Colombia</td>\n",
              "      <td>18.6</td>\n",
              "      <td>15.9</td>\n",
              "      <td>7.59</td>\n",
              "      <td>17.8</td>\n",
              "      <td>10900</td>\n",
              "      <td>3.860</td>\n",
              "      <td>76.4</td>\n",
              "      <td>2.01</td>\n",
              "      <td>6250</td>\n",
              "    </tr>\n",
              "    <tr>\n",
              "      <th>149</th>\n",
              "      <td>Montenegro</td>\n",
              "      <td>6.8</td>\n",
              "      <td>37.0</td>\n",
              "      <td>9.11</td>\n",
              "      <td>62.7</td>\n",
              "      <td>14000</td>\n",
              "      <td>1.600</td>\n",
              "      <td>76.4</td>\n",
              "      <td>1.77</td>\n",
              "      <td>6680</td>\n",
              "    </tr>\n",
              "    <tr>\n",
              "      <th>150</th>\n",
              "      <td>Czech Republic</td>\n",
              "      <td>3.4</td>\n",
              "      <td>66.0</td>\n",
              "      <td>7.88</td>\n",
              "      <td>62.9</td>\n",
              "      <td>28300</td>\n",
              "      <td>-1.430</td>\n",
              "      <td>77.5</td>\n",
              "      <td>1.51</td>\n",
              "      <td>19800</td>\n",
              "    </tr>\n",
              "  </tbody>\n",
              "</table>\n",
              "<p>151 rows × 10 columns</p>\n",
              "</div>"
            ],
            "text/plain": [
              "              country  child_mort  exports  health  imports  income  \\\n",
              "0            Mongolia        26.1     46.7    5.44     56.7    7710   \n",
              "1               Sudan        76.7     19.7    6.32     17.2    3370   \n",
              "2              Malawi        90.5     22.8    6.59     34.9    1030   \n",
              "3             Belgium         4.5     76.4   10.70     74.7   41100   \n",
              "4    Congo, Dem. Rep.       116.0     41.1    7.91     49.6     609   \n",
              "..                ...         ...      ...     ...      ...     ...   \n",
              "146           Finland         3.0     38.7    8.95     37.4   39800   \n",
              "147        Costa Rica        10.2     33.2   10.90     35.0   13000   \n",
              "148          Colombia        18.6     15.9    7.59     17.8   10900   \n",
              "149        Montenegro         6.8     37.0    9.11     62.7   14000   \n",
              "150    Czech Republic         3.4     66.0    7.88     62.9   28300   \n",
              "\n",
              "     inflation  life_expec  total_fer   gdpp  \n",
              "0       39.200        66.2       2.64   2650  \n",
              "1       19.600        66.3       4.88   1480  \n",
              "2       12.100        53.1       5.31    459  \n",
              "3        1.880        80.0       1.86  44400  \n",
              "4       20.800        57.5       6.54    334  \n",
              "..         ...         ...        ...    ...  \n",
              "146      0.351        80.0       1.87  46200  \n",
              "147      6.570        80.4       1.92   8200  \n",
              "148      3.860        76.4       2.01   6250  \n",
              "149      1.600        76.4       1.77   6680  \n",
              "150     -1.430        77.5       1.51  19800  \n",
              "\n",
              "[151 rows x 10 columns]"
            ]
          },
          "execution_count": 2,
          "metadata": {},
          "output_type": "execute_result"
        }
      ],
      "source": [
        "country_info = pd.read_csv('https://raw.githubusercontent.com/WHPAN0108/BHT-DataScience-S23/main/clustering/data/country.txt')\n",
        "\n",
        "country_info"
      ]
    },
    {
      "cell_type": "markdown",
      "metadata": {},
      "source": [
        "1. use K-means clustering and Hierarchical clustering to cluster the country into groups. (please choose the number of the cluster in a rational reason)"
      ]
    },
    {
      "cell_type": "code",
      "execution_count": null,
      "metadata": {},
      "outputs": [],
      "source": []
    },
    {
      "cell_type": "markdown",
      "metadata": {},
      "source": [
        "2. use PCA to reduce the dimension to 2d, and visualize the cluster from K-means and Hierarchical clustering respectively"
      ]
    },
    {
      "cell_type": "code",
      "execution_count": null,
      "metadata": {},
      "outputs": [],
      "source": []
    },
    {
      "cell_type": "markdown",
      "metadata": {},
      "source": [
        "3. please write the suggestion to CEO about the country you suggest"
      ]
    },
    {
      "cell_type": "markdown",
      "metadata": {},
      "source": []
    }
  ],
  "metadata": {
    "colab": {
      "provenance": []
    },
    "kernelspec": {
      "display_name": "Python 3",
      "name": "python3"
    },
    "language_info": {
      "codemirror_mode": {
        "name": "ipython",
        "version": 3
      },
      "file_extension": ".py",
      "mimetype": "text/x-python",
      "name": "python",
      "nbconvert_exporter": "python",
      "pygments_lexer": "ipython3",
      "version": "3.11.5"
    }
  },
  "nbformat": 4,
  "nbformat_minor": 0
}
